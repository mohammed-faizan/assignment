{
 "cells": [
  {
   "cell_type": "markdown",
   "id": "c07ea13c-84c2-4705-a4ce-990f3e228114",
   "metadata": {},
   "source": [
    "TOPIC: Python Basics Variable"
   ]
  },
  {
   "cell_type": "markdown",
   "id": "3f73a171-6a82-42bc-b44b-5ee0b37ae6d2",
   "metadata": {},
   "source": [
    "1. Declare two variables, `x` and `y`, and assign them integer values. Swap the\n",
    "values of these variables without using any temporary variable."
   ]
  },
  {
   "cell_type": "markdown",
   "id": "fd39a097-71ea-4a28-9410-5858f145f45c",
   "metadata": {},
   "source": [
    "Solution:\n",
    "firstly declare the variables x and y with value we asign is  x= 10 and  y=20"
   ]
  },
  {
   "cell_type": "code",
   "execution_count": 1,
   "id": "c7d9b72c-3477-4615-bfc9-f6f2239f52a5",
   "metadata": {},
   "outputs": [],
   "source": [
    "x=10"
   ]
  },
  {
   "cell_type": "code",
   "execution_count": 2,
   "id": "5d7c89dc-96b8-47ca-be1f-b990a6e7590d",
   "metadata": {},
   "outputs": [],
   "source": [
    "y=20"
   ]
  },
  {
   "cell_type": "code",
   "execution_count": 3,
   "id": "2c40c09f-66dd-4893-841d-f853b982007b",
   "metadata": {},
   "outputs": [
    {
     "data": {
      "text/plain": [
       "10"
      ]
     },
     "execution_count": 3,
     "metadata": {},
     "output_type": "execute_result"
    }
   ],
   "source": [
    "x"
   ]
  },
  {
   "cell_type": "code",
   "execution_count": 4,
   "id": "53d6fa66-d9eb-420d-8db0-4232b9c7bd8b",
   "metadata": {},
   "outputs": [
    {
     "data": {
      "text/plain": [
       "20"
      ]
     },
     "execution_count": 4,
     "metadata": {},
     "output_type": "execute_result"
    }
   ],
   "source": [
    "y"
   ]
  },
  {
   "cell_type": "markdown",
   "id": "e2dfdec7-c6f9-4625-8314-901ae540188f",
   "metadata": {},
   "source": [
    "now, to swap the values of x and y without using temporary variables  we need to swap them at a time  if suppose we  try to swap the  values\n",
    "x=y\n",
    "y=x\n",
    "this gives the same number for both x and y\n",
    "so we are using this step to swap"
   ]
  },
  {
   "cell_type": "code",
   "execution_count": 5,
   "id": "7b0fc856-8bcd-4519-8de9-28dbf1c5775a",
   "metadata": {},
   "outputs": [],
   "source": [
    "x,y=y,x"
   ]
  },
  {
   "cell_type": "markdown",
   "id": "f8078cc6-f1e8-401e-844f-3512839fd9b3",
   "metadata": {},
   "source": [
    "now , lets print the value of x  what it stored!"
   ]
  },
  {
   "cell_type": "code",
   "execution_count": 6,
   "id": "e87273fb-a007-474c-8e55-3f773aac3bfb",
   "metadata": {},
   "outputs": [
    {
     "data": {
      "text/plain": [
       "20"
      ]
     },
     "execution_count": 6,
     "metadata": {},
     "output_type": "execute_result"
    }
   ],
   "source": [
    "x"
   ]
  },
  {
   "cell_type": "code",
   "execution_count": 7,
   "id": "9934522b-086c-4afd-b94d-c1a4990dff79",
   "metadata": {},
   "outputs": [
    {
     "name": "stdout",
     "output_type": "stream",
     "text": [
      "20\n"
     ]
    }
   ],
   "source": [
    "print(x)"
   ]
  },
  {
   "cell_type": "markdown",
   "id": "8cb4a35e-3550-411e-885b-5a92babad4a0",
   "metadata": {},
   "source": [
    "lets print value of y "
   ]
  },
  {
   "cell_type": "code",
   "execution_count": 8,
   "id": "0380dc6c-511a-4411-872b-2b6907a06c3c",
   "metadata": {},
   "outputs": [
    {
     "data": {
      "text/plain": [
       "10"
      ]
     },
     "execution_count": 8,
     "metadata": {},
     "output_type": "execute_result"
    }
   ],
   "source": [
    "y"
   ]
  },
  {
   "cell_type": "code",
   "execution_count": 9,
   "id": "dc96a660-d566-4ef6-ae99-f5ff92f97e44",
   "metadata": {},
   "outputs": [
    {
     "name": "stdout",
     "output_type": "stream",
     "text": [
      "10\n"
     ]
    }
   ],
   "source": [
    "print(y)"
   ]
  },
  {
   "cell_type": "markdown",
   "id": "40a5f2b5-0060-431e-8460-7609b8e331ce",
   "metadata": {},
   "source": [
    "The  values of x and y is swapped without using the temporary variable\n"
   ]
  },
  {
   "cell_type": "markdown",
   "id": "05462995-39bb-4912-9c0d-65cbc79aaefa",
   "metadata": {},
   "source": [
    "2. Create a program that calculates the area of a rectangle. Take the length and\n",
    "width as inputs from the user and store them in variables. Calculate and\n",
    "display the area."
   ]
  },
  {
   "cell_type": "markdown",
   "id": "c05bf8e9-c9b0-4ade-90f9-9ee88d02c7b0",
   "metadata": {},
   "source": [
    " Solution :\n",
    " The area of rectangle is  length * breadth , let us  declare  two variables called   l and b , take an input from users  "
   ]
  },
  {
   "cell_type": "code",
   "execution_count": 10,
   "id": "ac4cc4a4-907c-41d3-b3c9-89924753aec1",
   "metadata": {},
   "outputs": [
    {
     "name": "stdin",
     "output_type": "stream",
     "text": [
      "enter the lenght of triangle 23\n",
      "enter the breadth of triangle 12\n"
     ]
    }
   ],
   "source": [
    "l = int(input(\"enter the lenght of triangle\"))\n",
    "b = int(input(\"enter the breadth of triangle\"))"
   ]
  },
  {
   "cell_type": "markdown",
   "id": "8fbac411-b60c-42c8-8d1c-bd640cea334a",
   "metadata": {},
   "source": [
    "To find the area of the triangle, lets do multiply the  l and b (l * b) , the  store this value in the variable called area."
   ]
  },
  {
   "cell_type": "code",
   "execution_count": 11,
   "id": "d38a6ccc-aa53-4297-93b9-96154674f0de",
   "metadata": {},
   "outputs": [],
   "source": [
    "area = l* b"
   ]
  },
  {
   "cell_type": "markdown",
   "id": "a1b4360b-a065-41b4-bfb6-54f0c19e708f",
   "metadata": {},
   "source": [
    "now lets print the area of rectangle .\n",
    "here  we can  also use print  function also"
   ]
  },
  {
   "cell_type": "code",
   "execution_count": 12,
   "id": "01115563-55e9-44e8-9bf5-56b8a74b8a8d",
   "metadata": {},
   "outputs": [
    {
     "data": {
      "text/plain": [
       "276"
      ]
     },
     "execution_count": 12,
     "metadata": {},
     "output_type": "execute_result"
    }
   ],
   "source": [
    "area"
   ]
  },
  {
   "cell_type": "code",
   "execution_count": 13,
   "id": "aa767fd9-7653-4b45-844d-0f9d195f32e1",
   "metadata": {},
   "outputs": [
    {
     "name": "stdout",
     "output_type": "stream",
     "text": [
      "276\n"
     ]
    }
   ],
   "source": [
    "print(area)"
   ]
  },
  {
   "cell_type": "markdown",
   "id": "b8deec94-4207-4db3-8601-9f85d79f2211",
   "metadata": {},
   "source": [
    "This is an area of rectangle with the user input."
   ]
  },
  {
   "cell_type": "markdown",
   "id": "7ae2746b-3924-47e6-808e-fdb56c92c461",
   "metadata": {},
   "source": [
    "3. Write a Python program that converts temperatures from Celsius to\n",
    "Fahrenheit. Take the temperature in Celsius as input, store it in a variable,\n",
    "convert it to Fahrenheit, and display the result."
   ]
  },
  {
   "cell_type": "markdown",
   "id": "be46c5c0-f7fd-44d2-bb74-6a517fcc2985",
   "metadata": {},
   "source": [
    "Solution:\n",
    "    To convert the celsicus to fahrenheit we need to the temperature of celsius, should be multiply by 1.8 and add 32,\n",
    "    \n",
    "    let now,  declare the variable for the celcius is c  and take an input"
   ]
  },
  {
   "cell_type": "code",
   "execution_count": 15,
   "id": "2fb6e97c-4902-49d9-b31c-4dc254cc0c0a",
   "metadata": {},
   "outputs": [
    {
     "name": "stdin",
     "output_type": "stream",
     "text": [
      "enter the temperature in celsius 32\n"
     ]
    }
   ],
   "source": [
    "c = int(input(\"enter the temperature in celsius\"))"
   ]
  },
  {
   "cell_type": "markdown",
   "id": "258addf1-53a6-4123-ba34-8124678a2c0c",
   "metadata": {},
   "source": [
    "Now, we need to convert  celsius  into  Fahrenheit , \n",
    "declare  a  variable  f  to store the fahrenheit value in it"
   ]
  },
  {
   "cell_type": "code",
   "execution_count": 16,
   "id": "f97c9ceb-0d93-4aa4-a573-44220b9c3d55",
   "metadata": {},
   "outputs": [],
   "source": [
    "f = ((c*(1.8))+32)\n"
   ]
  },
  {
   "cell_type": "markdown",
   "id": "14034c5b-8073-4671-8a1d-590314eee64e",
   "metadata": {},
   "source": [
    "lets print the  value of Fahrenheit"
   ]
  },
  {
   "cell_type": "code",
   "execution_count": 17,
   "id": "3f0324fa-c092-451e-80bd-daf5b2501dea",
   "metadata": {},
   "outputs": [
    {
     "name": "stdout",
     "output_type": "stream",
     "text": [
      "89.6\n"
     ]
    }
   ],
   "source": [
    "print(f)"
   ]
  },
  {
   "cell_type": "markdown",
   "id": "56c08c56-b4d3-4e88-869d-8e931f64fe2b",
   "metadata": {},
   "source": [
    "TOPIC: String Based Questions"
   ]
  },
  {
   "cell_type": "markdown",
   "id": "204ca309-da50-4eec-bc73-77a11455ceec",
   "metadata": {},
   "source": [
    "1. Write a Python program that takes a string as input and prints the length of\n",
    "the string."
   ]
  },
  {
   "cell_type": "markdown",
   "id": "10f7d58b-e00b-48db-86dc-cba9fbeee255",
   "metadata": {},
   "source": [
    "Solution:\n",
    "    lets  declare an variable  called s , store a value init"
   ]
  },
  {
   "cell_type": "code",
   "execution_count": 18,
   "id": "7b580825-a497-4fb6-94e7-d171e75792a6",
   "metadata": {},
   "outputs": [],
   "source": [
    "s=\"hello python\""
   ]
  },
  {
   "cell_type": "markdown",
   "id": "8bb1de3a-b801-43a7-988d-c931580aa7fc",
   "metadata": {},
   "source": [
    "now, lets declare an variable to store a len of  a string s , the variable called as leng"
   ]
  },
  {
   "cell_type": "code",
   "execution_count": 19,
   "id": "fb0ea448-9ce9-4a15-bdf3-5b42071bba65",
   "metadata": {},
   "outputs": [],
   "source": [
    "leng=len(s)"
   ]
  },
  {
   "cell_type": "markdown",
   "id": "a077d020-11ff-43e3-b8cc-74af40186caf",
   "metadata": {},
   "source": [
    "lets print the value of leng..!"
   ]
  },
  {
   "cell_type": "code",
   "execution_count": 20,
   "id": "f9fe0a1d-3c2e-4d01-aa21-73f67f6832ef",
   "metadata": {},
   "outputs": [
    {
     "name": "stdout",
     "output_type": "stream",
     "text": [
      "12\n"
     ]
    }
   ],
   "source": [
    "print(leng)"
   ]
  },
  {
   "cell_type": "markdown",
   "id": "6403976d-13d9-465c-a7ef-b57a385282c7",
   "metadata": {},
   "source": [
    "2. Create a program that takes a sentence from the user and counts the number\n",
    "of vowels (a, e, i, o, u) in the string."
   ]
  },
  {
   "cell_type": "markdown",
   "id": "91e1cfd8-a5a1-44ab-968f-b7fe28f5ea35",
   "metadata": {},
   "source": [
    "solution:\n",
    "    lets declare a variable called S and take an input from the user and along with that lets declare a variable  count initialise it to zero  and the another one variable called v to store the values of \"aeiouAEIOU\" to count the no of vowels in the s"
   ]
  },
  {
   "cell_type": "code",
   "execution_count": 21,
   "id": "130659fb-c91d-438d-aae6-b160685ab7e9",
   "metadata": {},
   "outputs": [
    {
     "name": "stdin",
     "output_type": "stream",
     "text": [
      "enter the string HiI friends\n"
     ]
    }
   ],
   "source": [
    "S = input(\"enter the string\")\n",
    "count=0\n",
    "v=\"aeiouAEIOU\""
   ]
  },
  {
   "cell_type": "markdown",
   "id": "2ec7bfe1-ce4d-45bc-9ba7-df588a4b4339",
   "metadata": {},
   "source": [
    "now, lets count number of vowels in it, firstly we  take an for loop to analyse the character in the  sentence then , we take if condition  with in for  to count the char in v then increment the count if the vowels occured"
   ]
  },
  {
   "cell_type": "code",
   "execution_count": 22,
   "id": "46934614-8dfe-4bde-9ebe-0cffc67cb8d5",
   "metadata": {},
   "outputs": [],
   "source": [
    "for char in S:\n",
    "    if char in v:\n",
    "        count += 1\n",
    "  \n"
   ]
  },
  {
   "cell_type": "markdown",
   "id": "0f3127b1-f148-4f8b-a257-bfd67f4c1e5b",
   "metadata": {},
   "source": [
    "lets print the value of count "
   ]
  },
  {
   "cell_type": "code",
   "execution_count": 23,
   "id": "1dbe2219-d8d2-4d97-910c-bb68441f04bd",
   "metadata": {},
   "outputs": [
    {
     "name": "stdout",
     "output_type": "stream",
     "text": [
      "Number of vowels: 4\n"
     ]
    }
   ],
   "source": [
    " print(\"Number of vowels:\",count )"
   ]
  },
  {
   "cell_type": "markdown",
   "id": "a01c7422-7edd-42d9-b9bd-2978ab57c8ea",
   "metadata": {},
   "source": [
    "3. Given a string, reverse the order of characters using string slicing and print\n",
    "the reversed string."
   ]
  },
  {
   "cell_type": "markdown",
   "id": "3332a4a9-7716-41ba-957e-6d0918822aab",
   "metadata": {},
   "source": [
    "solution:\n",
    "     let now , declare a variable s1 , take an input from the user  for it"
   ]
  },
  {
   "cell_type": "code",
   "execution_count": 48,
   "id": "b6203970-8e1a-41ea-aab8-d9d539a9ffcb",
   "metadata": {},
   "outputs": [
    {
     "name": "stdin",
     "output_type": "stream",
     "text": [
      "enter the string hello python\n"
     ]
    }
   ],
   "source": [
    "#the string variable is s1 \n",
    "s1=input(\"enter the string\")\n"
   ]
  },
  {
   "cell_type": "markdown",
   "id": "a1369990-06fe-40f2-9100-0db0cd740c37",
   "metadata": {},
   "source": [
    "To reverse the string we can use the slicing /indexing in it  as we know the string can be reverese by using defauled  [::-1]\n",
    "index in it, which explains that  start from infinity and end at infinity and its print the char comes in it path .. we get the reversed string"
   ]
  },
  {
   "cell_type": "code",
   "execution_count": 49,
   "id": "236677f5-5fcb-468c-a9ad-a5ed727aab40",
   "metadata": {},
   "outputs": [],
   "source": [
    "#declare a variable s1_r\n",
    "s1_r = s1[::-1]"
   ]
  },
  {
   "cell_type": "markdown",
   "id": "146e45bc-6825-4ac9-ac42-32021b988127",
   "metadata": {},
   "source": [
    "now lets print the value of s1_r"
   ]
  },
  {
   "cell_type": "code",
   "execution_count": 51,
   "id": "b5f09593-de78-47e4-b694-283656e47294",
   "metadata": {},
   "outputs": [
    {
     "name": "stdout",
     "output_type": "stream",
     "text": [
      "nohtyp olleh\n"
     ]
    }
   ],
   "source": [
    "print(s1_r)"
   ]
  },
  {
   "cell_type": "markdown",
   "id": "e002290d-faf3-40f4-b021-be1d4c116f1c",
   "metadata": {},
   "source": [
    "The string has been reversed"
   ]
  },
  {
   "cell_type": "markdown",
   "id": "d8808f1b-04bc-4729-9cef-d3926b02c9a2",
   "metadata": {},
   "source": [
    "4. Write a program that takes a string as input and checks if it is a palindrome\n",
    "(reads the same forwards and backwards)."
   ]
  },
  {
   "cell_type": "markdown",
   "id": "0a19b208-14a6-4e64-a2f5-ca004fe61ce5",
   "metadata": {},
   "source": [
    "Solution :  as similar in the preverse problem we find out the reverse string in it . so now use this logic to find the reverse of string and check whether trhe input sentence is equal to  reverse string or not"
   ]
  },
  {
   "cell_type": "code",
   "execution_count": 54,
   "id": "125141ac-48b5-4541-aa7a-cc9afe2565e1",
   "metadata": {},
   "outputs": [
    {
     "name": "stdin",
     "output_type": "stream",
     "text": [
      "enter the string afifa\n"
     ]
    },
    {
     "name": "stdout",
     "output_type": "stream",
     "text": [
      "the given  string is palindrome afifa\n"
     ]
    }
   ],
   "source": [
    "#declare a variable  S2 and take an input from the user\n",
    "S2 = input(\"enter the string\")\n",
    "#lets  declare a variable S2_R to store reverse string\n",
    "s2_R = S2[::-1]\n",
    "\n",
    "#now to check the palindrome take the if condition\n",
    "\n",
    "if S2 == s2_R:\n",
    "    print(\"the given  string is palindrome\",s2_R)\n",
    "else :\n",
    "    print(\"it is not a palindrome\")\n",
    "    "
   ]
  },
  {
   "cell_type": "markdown",
   "id": "29899ae8-9c62-438f-a02f-8596be930929",
   "metadata": {},
   "source": [
    "5. Create a program that takes a string as input and removes all the spaces from\n",
    "it. Print the modified string without spaces."
   ]
  },
  {
   "cell_type": "markdown",
   "id": "b2f32e7c-ffa2-4426-8ebf-838d0a76426f",
   "metadata": {},
   "source": [
    "Solution :\n",
    "    Here to remove the whitespaces in an string we have to use an if condition to check whether ther is an  whitespaces in the sentences if it is not equal then concatinate the string (char by char), to read the string we  use for loop"
   ]
  },
  {
   "cell_type": "code",
   "execution_count": 55,
   "id": "85c69073-9cf1-41a3-8fd9-690652949bcd",
   "metadata": {},
   "outputs": [
    {
     "name": "stdin",
     "output_type": "stream",
     "text": [
      "enter the string heello  py yt o\n"
     ]
    },
    {
     "name": "stdout",
     "output_type": "stream",
     "text": [
      "Modified string without spaces heellopyyto\n"
     ]
    }
   ],
   "source": [
    "#lets take an input from the user in the variable  S3\n",
    "S3 = input(\"enter the string\")\n",
    "'''lets   declare an empty string to store the  string without whitespaces \n",
    "that is S3_W'''\n",
    "S3_W = \"\"\n",
    "# take an for loop for the reading the character in the sentence\n",
    "for char in S3:\n",
    "    # if condition to check and concatinate the characters\n",
    "    if char != \" \":\n",
    "         S3_W += char\n",
    "\n",
    "print(\"Modified string without spaces\",S3_W )"
   ]
  },
  {
   "cell_type": "code",
   "execution_count": null,
   "id": "5955b59d-d1e9-4b7b-9aef-d8a61f035c16",
   "metadata": {},
   "outputs": [],
   "source": []
  }
 ],
 "metadata": {
  "kernelspec": {
   "display_name": "Python 3 (ipykernel)",
   "language": "python",
   "name": "python3"
  },
  "language_info": {
   "codemirror_mode": {
    "name": "ipython",
    "version": 3
   },
   "file_extension": ".py",
   "mimetype": "text/x-python",
   "name": "python",
   "nbconvert_exporter": "python",
   "pygments_lexer": "ipython3",
   "version": "3.10.8"
  }
 },
 "nbformat": 4,
 "nbformat_minor": 5
}
